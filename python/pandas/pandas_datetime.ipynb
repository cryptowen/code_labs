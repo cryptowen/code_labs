{
 "cells": [
  {
   "cell_type": "code",
   "execution_count": 1,
   "metadata": {
    "collapsed": true
   },
   "outputs": [],
   "source": [
    "from utils import hql_to_df\n",
    "import settings\n",
    "import pandas as pd\n",
    "import datetime\n",
    "settings.set_env('sanguo_ks')"
   ]
  },
  {
   "cell_type": "code",
   "execution_count": 2,
   "metadata": {
    "collapsed": false
   },
   "outputs": [
    {
     "data": {
      "text/html": [
       "<div>\n",
       "<table border=\"1\" class=\"dataframe\">\n",
       "  <thead>\n",
       "    <tr style=\"text-align: right;\">\n",
       "      <th></th>\n",
       "      <th>ds</th>\n",
       "      <th>user_id</th>\n",
       "      <th>act_time</th>\n",
       "      <th>reg_time</th>\n",
       "    </tr>\n",
       "  </thead>\n",
       "  <tbody>\n",
       "    <tr>\n",
       "      <th>0</th>\n",
       "      <td>20160531</td>\n",
       "      <td>m22592631</td>\n",
       "      <td>2016-05-31 22:28:46</td>\n",
       "      <td>2016-04-19 22:24:14</td>\n",
       "    </tr>\n",
       "    <tr>\n",
       "      <th>1</th>\n",
       "      <td>20160531</td>\n",
       "      <td>m48785522</td>\n",
       "      <td>2016-05-31 12:14:29</td>\n",
       "      <td>2016-04-20 21:53:24</td>\n",
       "    </tr>\n",
       "    <tr>\n",
       "      <th>2</th>\n",
       "      <td>20160531</td>\n",
       "      <td>m18328365</td>\n",
       "      <td>2016-05-31 12:16:08</td>\n",
       "      <td>2016-04-24 20:36:24</td>\n",
       "    </tr>\n",
       "    <tr>\n",
       "      <th>3</th>\n",
       "      <td>20160531</td>\n",
       "      <td>m419445322</td>\n",
       "      <td>2016-05-31 20:36:35</td>\n",
       "      <td>2016-05-31 20:36:34</td>\n",
       "    </tr>\n",
       "    <tr>\n",
       "      <th>4</th>\n",
       "      <td>20160531</td>\n",
       "      <td>m240843541</td>\n",
       "      <td>2016-06-01 00:10:04</td>\n",
       "      <td>2016-05-11 17:36:53</td>\n",
       "    </tr>\n",
       "  </tbody>\n",
       "</table>\n",
       "</div>"
      ],
      "text/plain": [
       "         ds     user_id             act_time             reg_time\n",
       "0  20160531   m22592631  2016-05-31 22:28:46  2016-04-19 22:24:14\n",
       "1  20160531   m48785522  2016-05-31 12:14:29  2016-04-20 21:53:24\n",
       "2  20160531   m18328365  2016-05-31 12:16:08  2016-04-24 20:36:24\n",
       "3  20160531  m419445322  2016-05-31 20:36:35  2016-05-31 20:36:34\n",
       "4  20160531  m240843541  2016-06-01 00:10:04  2016-05-11 17:36:53"
      ]
     },
     "execution_count": 2,
     "metadata": {},
     "output_type": "execute_result"
    }
   ],
   "source": [
    "info_sql = '''\n",
    "select ds, user_id, act_time, reg_time\n",
    "from raw_info\n",
    "where ds >= '20160530' and ds <= '20160602'\n",
    "'''\n",
    "info_df = hql_to_df(info_sql)\n",
    "info_df.head()"
   ]
  },
  {
   "cell_type": "code",
   "execution_count": 3,
   "metadata": {
    "collapsed": false
   },
   "outputs": [
    {
     "data": {
      "text/html": [
       "<div>\n",
       "<table border=\"1\" class=\"dataframe\">\n",
       "  <thead>\n",
       "    <tr style=\"text-align: right;\">\n",
       "      <th></th>\n",
       "      <th>ds</th>\n",
       "      <th>user_id</th>\n",
       "      <th>act_time</th>\n",
       "      <th>reg_time</th>\n",
       "      <th>act_dt</th>\n",
       "      <th>reg_dt</th>\n",
       "    </tr>\n",
       "  </thead>\n",
       "  <tbody>\n",
       "    <tr>\n",
       "      <th>0</th>\n",
       "      <td>20160531</td>\n",
       "      <td>m22592631</td>\n",
       "      <td>2016-05-31 22:28:46</td>\n",
       "      <td>2016-04-19 22:24:14</td>\n",
       "      <td>2016-05-31 22:28:46</td>\n",
       "      <td>2016-04-19 22:24:14</td>\n",
       "    </tr>\n",
       "    <tr>\n",
       "      <th>1</th>\n",
       "      <td>20160531</td>\n",
       "      <td>m48785522</td>\n",
       "      <td>2016-05-31 12:14:29</td>\n",
       "      <td>2016-04-20 21:53:24</td>\n",
       "      <td>2016-05-31 12:14:29</td>\n",
       "      <td>2016-04-20 21:53:24</td>\n",
       "    </tr>\n",
       "    <tr>\n",
       "      <th>2</th>\n",
       "      <td>20160531</td>\n",
       "      <td>m18328365</td>\n",
       "      <td>2016-05-31 12:16:08</td>\n",
       "      <td>2016-04-24 20:36:24</td>\n",
       "      <td>2016-05-31 12:16:08</td>\n",
       "      <td>2016-04-24 20:36:24</td>\n",
       "    </tr>\n",
       "    <tr>\n",
       "      <th>3</th>\n",
       "      <td>20160531</td>\n",
       "      <td>m419445322</td>\n",
       "      <td>2016-05-31 20:36:35</td>\n",
       "      <td>2016-05-31 20:36:34</td>\n",
       "      <td>2016-05-31 20:36:35</td>\n",
       "      <td>2016-05-31 20:36:34</td>\n",
       "    </tr>\n",
       "    <tr>\n",
       "      <th>4</th>\n",
       "      <td>20160531</td>\n",
       "      <td>m240843541</td>\n",
       "      <td>2016-06-01 00:10:04</td>\n",
       "      <td>2016-05-11 17:36:53</td>\n",
       "      <td>2016-06-01 00:10:04</td>\n",
       "      <td>2016-05-11 17:36:53</td>\n",
       "    </tr>\n",
       "  </tbody>\n",
       "</table>\n",
       "</div>"
      ],
      "text/plain": [
       "         ds     user_id             act_time             reg_time  \\\n",
       "0  20160531   m22592631  2016-05-31 22:28:46  2016-04-19 22:24:14   \n",
       "1  20160531   m48785522  2016-05-31 12:14:29  2016-04-20 21:53:24   \n",
       "2  20160531   m18328365  2016-05-31 12:16:08  2016-04-24 20:36:24   \n",
       "3  20160531  m419445322  2016-05-31 20:36:35  2016-05-31 20:36:34   \n",
       "4  20160531  m240843541  2016-06-01 00:10:04  2016-05-11 17:36:53   \n",
       "\n",
       "               act_dt              reg_dt  \n",
       "0 2016-05-31 22:28:46 2016-04-19 22:24:14  \n",
       "1 2016-05-31 12:14:29 2016-04-20 21:53:24  \n",
       "2 2016-05-31 12:16:08 2016-04-24 20:36:24  \n",
       "3 2016-05-31 20:36:35 2016-05-31 20:36:34  \n",
       "4 2016-06-01 00:10:04 2016-05-11 17:36:53  "
      ]
     },
     "execution_count": 3,
     "metadata": {},
     "output_type": "execute_result"
    }
   ],
   "source": [
    "# 将字符串转化为 datetime 格式\n",
    "info_df['act_dt'] = pd.to_datetime(info_df.act_time)\n",
    "info_df['reg_dt'] = pd.to_datetime(info_df.reg_time)\n",
    "info_df.head()"
   ]
  },
  {
   "cell_type": "code",
   "execution_count": 4,
   "metadata": {
    "collapsed": false
   },
   "outputs": [
    {
     "data": {
      "text/plain": [
       "0   42 days 00:04:32\n",
       "1   40 days 14:21:05\n",
       "2   36 days 15:39:44\n",
       "3    0 days 00:00:01\n",
       "4   20 days 06:33:11\n",
       "dtype: timedelta64[ns]"
      ]
     },
     "execution_count": 4,
     "metadata": {},
     "output_type": "execute_result"
    }
   ],
   "source": [
    "# 从注册到最后活跃的时间差\n",
    "s = info_df.act_dt - info_df.reg_dt\n",
    "s.head()"
   ]
  },
  {
   "cell_type": "code",
   "execution_count": 5,
   "metadata": {
    "collapsed": false
   },
   "outputs": [
    {
     "data": {
      "text/plain": [
       "0   42 days\n",
       "1   41 days\n",
       "2   37 days\n",
       "3    0 days\n",
       "4   21 days\n",
       "dtype: timedelta64[ns]"
      ]
     },
     "execution_count": 5,
     "metadata": {},
     "output_type": "execute_result"
    }
   ],
   "source": [
    "# 从注册到最后活跃的日期差\n",
    "s = info_df.act_dt.dt.date - info_df.reg_dt.dt.date\n",
    "s.head()"
   ]
  },
  {
   "cell_type": "code",
   "execution_count": 6,
   "metadata": {
    "collapsed": false
   },
   "outputs": [
    {
     "data": {
      "text/plain": [
       "0    42\n",
       "1    41\n",
       "2    37\n",
       "3     0\n",
       "4    21\n",
       "dtype: int64"
      ]
     },
     "execution_count": 6,
     "metadata": {},
     "output_type": "execute_result"
    }
   ],
   "source": [
    "# 得到int格式的日期差\n",
    "(info_df.act_dt.dt.date - info_df.reg_dt.dt.date).dt.days.head()"
   ]
  },
  {
   "cell_type": "code",
   "execution_count": 7,
   "metadata": {
    "collapsed": false
   },
   "outputs": [
    {
     "data": {
      "text/html": [
       "<div>\n",
       "<table border=\"1\" class=\"dataframe\">\n",
       "  <thead>\n",
       "    <tr style=\"text-align: right;\">\n",
       "      <th></th>\n",
       "      <th>ds</th>\n",
       "      <th>user_id</th>\n",
       "      <th>act_time</th>\n",
       "      <th>reg_time</th>\n",
       "      <th>act_dt</th>\n",
       "      <th>reg_dt</th>\n",
       "    </tr>\n",
       "  </thead>\n",
       "  <tbody>\n",
       "    <tr>\n",
       "      <th>519</th>\n",
       "      <td>20160601</td>\n",
       "      <td>m13314329</td>\n",
       "      <td>2016-06-01 19:06:10</td>\n",
       "      <td>2016-06-01 19:04:04</td>\n",
       "      <td>2016-06-01 19:06:10</td>\n",
       "      <td>2016-06-01 19:04:04</td>\n",
       "    </tr>\n",
       "    <tr>\n",
       "      <th>522</th>\n",
       "      <td>20160601</td>\n",
       "      <td>m425289082</td>\n",
       "      <td>2016-06-01 22:59:27</td>\n",
       "      <td>2016-06-01 19:00:16</td>\n",
       "      <td>2016-06-01 22:59:27</td>\n",
       "      <td>2016-06-01 19:00:16</td>\n",
       "    </tr>\n",
       "    <tr>\n",
       "      <th>525</th>\n",
       "      <td>20160601</td>\n",
       "      <td>m427885517</td>\n",
       "      <td>2016-06-01 22:49:04</td>\n",
       "      <td>2016-06-01 21:55:40</td>\n",
       "      <td>2016-06-01 22:49:04</td>\n",
       "      <td>2016-06-01 21:55:40</td>\n",
       "    </tr>\n",
       "    <tr>\n",
       "      <th>529</th>\n",
       "      <td>20160601</td>\n",
       "      <td>m422594249</td>\n",
       "      <td>2016-06-02 00:18:03</td>\n",
       "      <td>2016-06-01 11:47:17</td>\n",
       "      <td>2016-06-02 00:18:03</td>\n",
       "      <td>2016-06-01 11:47:17</td>\n",
       "    </tr>\n",
       "    <tr>\n",
       "      <th>533</th>\n",
       "      <td>20160601</td>\n",
       "      <td>m421932860</td>\n",
       "      <td>2016-06-01 10:12:18</td>\n",
       "      <td>2016-06-01 10:12:18</td>\n",
       "      <td>2016-06-01 10:12:18</td>\n",
       "      <td>2016-06-01 10:12:18</td>\n",
       "    </tr>\n",
       "  </tbody>\n",
       "</table>\n",
       "</div>"
      ],
      "text/plain": [
       "           ds     user_id             act_time             reg_time  \\\n",
       "519  20160601   m13314329  2016-06-01 19:06:10  2016-06-01 19:04:04   \n",
       "522  20160601  m425289082  2016-06-01 22:59:27  2016-06-01 19:00:16   \n",
       "525  20160601  m427885517  2016-06-01 22:49:04  2016-06-01 21:55:40   \n",
       "529  20160601  m422594249  2016-06-02 00:18:03  2016-06-01 11:47:17   \n",
       "533  20160601  m421932860  2016-06-01 10:12:18  2016-06-01 10:12:18   \n",
       "\n",
       "                 act_dt              reg_dt  \n",
       "519 2016-06-01 19:06:10 2016-06-01 19:04:04  \n",
       "522 2016-06-01 22:59:27 2016-06-01 19:00:16  \n",
       "525 2016-06-01 22:49:04 2016-06-01 21:55:40  \n",
       "529 2016-06-02 00:18:03 2016-06-01 11:47:17  \n",
       "533 2016-06-01 10:12:18 2016-06-01 10:12:18  "
      ]
     },
     "execution_count": 7,
     "metadata": {},
     "output_type": "execute_result"
    }
   ],
   "source": [
    "# datetime格式可以直接和字符串格式的日期进行比较\n",
    "reg_in_jun_df = info_df[info_df.reg_dt >= '20160601']\n",
    "reg_in_jun_df.head()"
   ]
  },
  {
   "cell_type": "code",
   "execution_count": 8,
   "metadata": {
    "collapsed": false
   },
   "outputs": [
    {
     "data": {
      "text/html": [
       "<div>\n",
       "<table border=\"1\" class=\"dataframe\">\n",
       "  <thead>\n",
       "    <tr style=\"text-align: right;\">\n",
       "      <th></th>\n",
       "      <th>ds</th>\n",
       "      <th>user_id</th>\n",
       "      <th>act_time</th>\n",
       "      <th>reg_time</th>\n",
       "      <th>act_dt</th>\n",
       "      <th>reg_dt</th>\n",
       "    </tr>\n",
       "  </thead>\n",
       "  <tbody>\n",
       "    <tr>\n",
       "      <th>519</th>\n",
       "      <td>20160601</td>\n",
       "      <td>m13314329</td>\n",
       "      <td>2016-06-01 19:06:10</td>\n",
       "      <td>2016-06-01 19:04:04</td>\n",
       "      <td>2016-06-01 19:06:10</td>\n",
       "      <td>2016-06-01 19:04:04</td>\n",
       "    </tr>\n",
       "    <tr>\n",
       "      <th>522</th>\n",
       "      <td>20160601</td>\n",
       "      <td>m425289082</td>\n",
       "      <td>2016-06-01 22:59:27</td>\n",
       "      <td>2016-06-01 19:00:16</td>\n",
       "      <td>2016-06-01 22:59:27</td>\n",
       "      <td>2016-06-01 19:00:16</td>\n",
       "    </tr>\n",
       "    <tr>\n",
       "      <th>525</th>\n",
       "      <td>20160601</td>\n",
       "      <td>m427885517</td>\n",
       "      <td>2016-06-01 22:49:04</td>\n",
       "      <td>2016-06-01 21:55:40</td>\n",
       "      <td>2016-06-01 22:49:04</td>\n",
       "      <td>2016-06-01 21:55:40</td>\n",
       "    </tr>\n",
       "    <tr>\n",
       "      <th>529</th>\n",
       "      <td>20160601</td>\n",
       "      <td>m422594249</td>\n",
       "      <td>2016-06-02 00:18:03</td>\n",
       "      <td>2016-06-01 11:47:17</td>\n",
       "      <td>2016-06-02 00:18:03</td>\n",
       "      <td>2016-06-01 11:47:17</td>\n",
       "    </tr>\n",
       "    <tr>\n",
       "      <th>533</th>\n",
       "      <td>20160601</td>\n",
       "      <td>m421932860</td>\n",
       "      <td>2016-06-01 10:12:18</td>\n",
       "      <td>2016-06-01 10:12:18</td>\n",
       "      <td>2016-06-01 10:12:18</td>\n",
       "      <td>2016-06-01 10:12:18</td>\n",
       "    </tr>\n",
       "  </tbody>\n",
       "</table>\n",
       "</div>"
      ],
      "text/plain": [
       "           ds     user_id             act_time             reg_time  \\\n",
       "519  20160601   m13314329  2016-06-01 19:06:10  2016-06-01 19:04:04   \n",
       "522  20160601  m425289082  2016-06-01 22:59:27  2016-06-01 19:00:16   \n",
       "525  20160601  m427885517  2016-06-01 22:49:04  2016-06-01 21:55:40   \n",
       "529  20160601  m422594249  2016-06-02 00:18:03  2016-06-01 11:47:17   \n",
       "533  20160601  m421932860  2016-06-01 10:12:18  2016-06-01 10:12:18   \n",
       "\n",
       "                 act_dt              reg_dt  \n",
       "519 2016-06-01 19:06:10 2016-06-01 19:04:04  \n",
       "522 2016-06-01 22:59:27 2016-06-01 19:00:16  \n",
       "525 2016-06-01 22:49:04 2016-06-01 21:55:40  \n",
       "529 2016-06-02 00:18:03 2016-06-01 11:47:17  \n",
       "533 2016-06-01 10:12:18 2016-06-01 10:12:18  "
      ]
     },
     "execution_count": 8,
     "metadata": {},
     "output_type": "execute_result"
    }
   ],
   "source": [
    "# 字符串格式可以多种多样，会智能解析\n",
    "reg_in_jun_df = info_df[info_df.reg_dt >= '2016-06-01']\n",
    "reg_in_jun_df.head()"
   ]
  },
  {
   "cell_type": "code",
   "execution_count": 9,
   "metadata": {
    "collapsed": false
   },
   "outputs": [
    {
     "data": {
      "text/html": [
       "<div>\n",
       "<table border=\"1\" class=\"dataframe\">\n",
       "  <thead>\n",
       "    <tr style=\"text-align: right;\">\n",
       "      <th></th>\n",
       "      <th>ds</th>\n",
       "      <th>user_id</th>\n",
       "      <th>act_time</th>\n",
       "      <th>reg_time</th>\n",
       "      <th>act_dt</th>\n",
       "      <th>reg_dt</th>\n",
       "    </tr>\n",
       "  </thead>\n",
       "  <tbody>\n",
       "    <tr>\n",
       "      <th>519</th>\n",
       "      <td>20160601</td>\n",
       "      <td>m13314329</td>\n",
       "      <td>2016-06-01 19:06:10</td>\n",
       "      <td>2016-06-01 19:04:04</td>\n",
       "      <td>2016-06-01 19:06:10</td>\n",
       "      <td>2016-06-01 19:04:04</td>\n",
       "    </tr>\n",
       "    <tr>\n",
       "      <th>522</th>\n",
       "      <td>20160601</td>\n",
       "      <td>m425289082</td>\n",
       "      <td>2016-06-01 22:59:27</td>\n",
       "      <td>2016-06-01 19:00:16</td>\n",
       "      <td>2016-06-01 22:59:27</td>\n",
       "      <td>2016-06-01 19:00:16</td>\n",
       "    </tr>\n",
       "    <tr>\n",
       "      <th>525</th>\n",
       "      <td>20160601</td>\n",
       "      <td>m427885517</td>\n",
       "      <td>2016-06-01 22:49:04</td>\n",
       "      <td>2016-06-01 21:55:40</td>\n",
       "      <td>2016-06-01 22:49:04</td>\n",
       "      <td>2016-06-01 21:55:40</td>\n",
       "    </tr>\n",
       "    <tr>\n",
       "      <th>529</th>\n",
       "      <td>20160601</td>\n",
       "      <td>m422594249</td>\n",
       "      <td>2016-06-02 00:18:03</td>\n",
       "      <td>2016-06-01 11:47:17</td>\n",
       "      <td>2016-06-02 00:18:03</td>\n",
       "      <td>2016-06-01 11:47:17</td>\n",
       "    </tr>\n",
       "    <tr>\n",
       "      <th>533</th>\n",
       "      <td>20160601</td>\n",
       "      <td>m421932860</td>\n",
       "      <td>2016-06-01 10:12:18</td>\n",
       "      <td>2016-06-01 10:12:18</td>\n",
       "      <td>2016-06-01 10:12:18</td>\n",
       "      <td>2016-06-01 10:12:18</td>\n",
       "    </tr>\n",
       "  </tbody>\n",
       "</table>\n",
       "</div>"
      ],
      "text/plain": [
       "           ds     user_id             act_time             reg_time  \\\n",
       "519  20160601   m13314329  2016-06-01 19:06:10  2016-06-01 19:04:04   \n",
       "522  20160601  m425289082  2016-06-01 22:59:27  2016-06-01 19:00:16   \n",
       "525  20160601  m427885517  2016-06-01 22:49:04  2016-06-01 21:55:40   \n",
       "529  20160601  m422594249  2016-06-02 00:18:03  2016-06-01 11:47:17   \n",
       "533  20160601  m421932860  2016-06-01 10:12:18  2016-06-01 10:12:18   \n",
       "\n",
       "                 act_dt              reg_dt  \n",
       "519 2016-06-01 19:06:10 2016-06-01 19:04:04  \n",
       "522 2016-06-01 22:59:27 2016-06-01 19:00:16  \n",
       "525 2016-06-01 22:49:04 2016-06-01 21:55:40  \n",
       "529 2016-06-02 00:18:03 2016-06-01 11:47:17  \n",
       "533 2016-06-01 10:12:18 2016-06-01 10:12:18  "
      ]
     },
     "execution_count": 9,
     "metadata": {},
     "output_type": "execute_result"
    }
   ],
   "source": [
    "# 字符串格式可以多种多样，会智能解析\n",
    "reg_in_jun_df = info_df[info_df.reg_dt >= '2016/06/01']\n",
    "reg_in_jun_df.head()"
   ]
  },
  {
   "cell_type": "code",
   "execution_count": 10,
   "metadata": {
    "collapsed": false
   },
   "outputs": [
    {
     "data": {
      "text/plain": [
       "array([   23,    22,    21, 16975,    24,    20])"
      ]
     },
     "execution_count": 10,
     "metadata": {},
     "output_type": "execute_result"
    }
   ],
   "source": [
    "today = datetime.date.today()\n",
    "lost_days_df = (today - info_df.act_dt.dt.date).dt.days\n",
    "lost_days_df.unique()"
   ]
  }
 ],
 "metadata": {
  "kernelspec": {
   "display_name": "Python 2",
   "language": "python",
   "name": "python2"
  },
  "language_info": {
   "codemirror_mode": {
    "name": "ipython",
    "version": 2
   },
   "file_extension": ".py",
   "mimetype": "text/x-python",
   "name": "python",
   "nbconvert_exporter": "python",
   "pygments_lexer": "ipython2",
   "version": "2.7.11"
  }
 },
 "nbformat": 4,
 "nbformat_minor": 0
}
