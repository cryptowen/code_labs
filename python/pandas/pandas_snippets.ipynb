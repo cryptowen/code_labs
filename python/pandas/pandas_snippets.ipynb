{
 "cells": [
  {
   "cell_type": "code",
   "execution_count": 1,
   "metadata": {
    "collapsed": true
   },
   "outputs": [],
   "source": [
    "from utils import hql_to_df\n",
    "import settings\n",
    "settings.set_env('sanguo_ks')"
   ]
  },
  {
   "cell_type": "code",
   "execution_count": 2,
   "metadata": {
    "collapsed": false,
    "scrolled": true
   },
   "outputs": [
    {
     "name": "stdout",
     "output_type": "stream",
     "text": [
      "         ds     user_id\n",
      "0  20160510   m49385201\n",
      "1  20160510  m108654572\n",
      "2  20160510   m19373220\n",
      "3  20160510   m45951639\n",
      "4  20160510  m122603561\n"
     ]
    }
   ],
   "source": [
    "act_sql = '''\n",
    "select ds, user_id\n",
    "from raw_activeuser\n",
    "where ds >= '20160501' and ds <= '20160510'\n",
    "'''\n",
    "act_df = hql_to_df(act_sql)\n",
    "print act_df.head()"
   ]
  },
  {
   "cell_type": "markdown",
   "metadata": {},
   "source": [
    "`pivot_table`可以将列转成行"
   ]
  },
  {
   "cell_type": "code",
   "execution_count": 3,
   "metadata": {
    "collapsed": false
   },
   "outputs": [
    {
     "name": "stdout",
     "output_type": "stream",
     "text": [
      "ds          20160501  20160502  20160503  20160504  20160505  20160506  \\\n",
      "user_id                                                                  \n",
      "m100000323       1.0       NaN       NaN       NaN       NaN       NaN   \n",
      "m10000442        NaN       NaN       NaN       NaN       NaN       NaN   \n",
      "m100007951       1.0       1.0       1.0       1.0       1.0       1.0   \n",
      "m100011278       1.0       NaN       NaN       1.0       NaN       1.0   \n",
      "m100011534       NaN       NaN       1.0       NaN       1.0       1.0   \n",
      "\n",
      "ds          20160507  20160508  20160509  20160510  \n",
      "user_id                                             \n",
      "m100000323       NaN       NaN       NaN       NaN  \n",
      "m10000442        1.0       1.0       1.0       1.0  \n",
      "m100007951       1.0       1.0       1.0       1.0  \n",
      "m100011278       NaN       NaN       NaN       NaN  \n",
      "m100011534       1.0       NaN       NaN       NaN  \n"
     ]
    }
   ],
   "source": [
    "act_df['act'] = 1\n",
    "print act_df.pivot_table('act', ['user_id'], 'ds').head()"
   ]
  }
 ],
 "metadata": {
  "kernelspec": {
   "display_name": "Python 2",
   "language": "python",
   "name": "python2"
  },
  "language_info": {
   "codemirror_mode": {
    "name": "ipython",
    "version": 2
   },
   "file_extension": ".py",
   "mimetype": "text/x-python",
   "name": "python",
   "nbconvert_exporter": "python",
   "pygments_lexer": "ipython2",
   "version": "2.7.11"
  }
 },
 "nbformat": 4,
 "nbformat_minor": 0
}
