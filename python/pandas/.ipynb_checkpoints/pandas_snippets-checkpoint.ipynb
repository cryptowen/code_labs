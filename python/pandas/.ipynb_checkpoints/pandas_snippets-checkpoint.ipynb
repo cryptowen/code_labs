{
 "cells": [
  {
   "cell_type": "code",
   "execution_count": 1,
   "metadata": {
    "collapsed": true
   },
   "outputs": [],
   "source": [
    "from utils import hql_to_df\n",
    "import settings\n",
    "settings.set_env('sanguo_ks')"
   ]
  },
  {
   "cell_type": "code",
   "execution_count": 2,
   "metadata": {
    "collapsed": false,
    "scrolled": true
   },
   "outputs": [
    {
     "name": "stdout",
     "output_type": "stream",
     "text": [
      "         ds     user_id\n",
      "0  20160510   m49385201\n",
      "1  20160510  m108654572\n",
      "2  20160510   m19373220\n",
      "3  20160510   m45951639\n",
      "4  20160510  m122603561\n"
     ]
    }
   ],
   "source": [
    "act_sql = '''\n",
    "select ds, user_id\n",
    "from raw_activeuser\n",
    "where ds >= '20160501' and ds <= '20160510'\n",
    "'''\n",
    "act_df = hql_to_df(act_sql)\n",
    "print act_df.head()"
   ]
  },
  {
   "cell_type": "markdown",
   "metadata": {},
   "source": [
    "## pandas 使用技巧\n",
    "### pivot_table\n",
    "`pivot_table`可以将列转成行"
   ]
  },
  {
   "cell_type": "code",
   "execution_count": 3,
   "metadata": {
    "collapsed": false,
    "scrolled": false
   },
   "outputs": [
    {
     "data": {
      "text/html": [
       "<div>\n",
       "<table border=\"1\" class=\"dataframe\">\n",
       "  <thead>\n",
       "    <tr style=\"text-align: right;\">\n",
       "      <th>ds</th>\n",
       "      <th>20160501</th>\n",
       "      <th>20160502</th>\n",
       "      <th>20160503</th>\n",
       "      <th>20160504</th>\n",
       "      <th>20160505</th>\n",
       "      <th>20160506</th>\n",
       "      <th>20160507</th>\n",
       "      <th>20160508</th>\n",
       "      <th>20160509</th>\n",
       "      <th>20160510</th>\n",
       "    </tr>\n",
       "    <tr>\n",
       "      <th>user_id</th>\n",
       "      <th></th>\n",
       "      <th></th>\n",
       "      <th></th>\n",
       "      <th></th>\n",
       "      <th></th>\n",
       "      <th></th>\n",
       "      <th></th>\n",
       "      <th></th>\n",
       "      <th></th>\n",
       "      <th></th>\n",
       "    </tr>\n",
       "  </thead>\n",
       "  <tbody>\n",
       "    <tr>\n",
       "      <th>m100000323</th>\n",
       "      <td>1.0</td>\n",
       "      <td>NaN</td>\n",
       "      <td>NaN</td>\n",
       "      <td>NaN</td>\n",
       "      <td>NaN</td>\n",
       "      <td>NaN</td>\n",
       "      <td>NaN</td>\n",
       "      <td>NaN</td>\n",
       "      <td>NaN</td>\n",
       "      <td>NaN</td>\n",
       "    </tr>\n",
       "    <tr>\n",
       "      <th>m10000442</th>\n",
       "      <td>NaN</td>\n",
       "      <td>NaN</td>\n",
       "      <td>NaN</td>\n",
       "      <td>NaN</td>\n",
       "      <td>NaN</td>\n",
       "      <td>NaN</td>\n",
       "      <td>1.0</td>\n",
       "      <td>1.0</td>\n",
       "      <td>1.0</td>\n",
       "      <td>1.0</td>\n",
       "    </tr>\n",
       "    <tr>\n",
       "      <th>m100007951</th>\n",
       "      <td>1.0</td>\n",
       "      <td>1.0</td>\n",
       "      <td>1.0</td>\n",
       "      <td>1.0</td>\n",
       "      <td>1.0</td>\n",
       "      <td>1.0</td>\n",
       "      <td>1.0</td>\n",
       "      <td>1.0</td>\n",
       "      <td>1.0</td>\n",
       "      <td>1.0</td>\n",
       "    </tr>\n",
       "    <tr>\n",
       "      <th>m100011278</th>\n",
       "      <td>1.0</td>\n",
       "      <td>NaN</td>\n",
       "      <td>NaN</td>\n",
       "      <td>1.0</td>\n",
       "      <td>NaN</td>\n",
       "      <td>1.0</td>\n",
       "      <td>NaN</td>\n",
       "      <td>NaN</td>\n",
       "      <td>NaN</td>\n",
       "      <td>NaN</td>\n",
       "    </tr>\n",
       "    <tr>\n",
       "      <th>m100011534</th>\n",
       "      <td>NaN</td>\n",
       "      <td>NaN</td>\n",
       "      <td>1.0</td>\n",
       "      <td>NaN</td>\n",
       "      <td>1.0</td>\n",
       "      <td>1.0</td>\n",
       "      <td>1.0</td>\n",
       "      <td>NaN</td>\n",
       "      <td>NaN</td>\n",
       "      <td>NaN</td>\n",
       "    </tr>\n",
       "  </tbody>\n",
       "</table>\n",
       "</div>"
      ],
      "text/plain": [
       "ds          20160501  20160502  20160503  20160504  20160505  20160506  \\\n",
       "user_id                                                                  \n",
       "m100000323       1.0       NaN       NaN       NaN       NaN       NaN   \n",
       "m10000442        NaN       NaN       NaN       NaN       NaN       NaN   \n",
       "m100007951       1.0       1.0       1.0       1.0       1.0       1.0   \n",
       "m100011278       1.0       NaN       NaN       1.0       NaN       1.0   \n",
       "m100011534       NaN       NaN       1.0       NaN       1.0       1.0   \n",
       "\n",
       "ds          20160507  20160508  20160509  20160510  \n",
       "user_id                                             \n",
       "m100000323       NaN       NaN       NaN       NaN  \n",
       "m10000442        1.0       1.0       1.0       1.0  \n",
       "m100007951       1.0       1.0       1.0       1.0  \n",
       "m100011278       NaN       NaN       NaN       NaN  \n",
       "m100011534       1.0       NaN       NaN       NaN  "
      ]
     },
     "execution_count": 3,
     "metadata": {},
     "output_type": "execute_result"
    }
   ],
   "source": [
    "act_df['act'] = 1\n",
    "act_df.pivot_table('act', ['user_id'], 'ds').head()"
   ]
  },
  {
   "cell_type": "markdown",
   "metadata": {},
   "source": [
    "## 其它工具\n",
    "### pandasql\n",
    "使用 pandasql 可以直接对 pandas dataframe 执行 SQL 语句"
   ]
  },
  {
   "cell_type": "code",
   "execution_count": 4,
   "metadata": {
    "collapsed": false
   },
   "outputs": [
    {
     "data": {
      "text/html": [
       "<div>\n",
       "<table border=\"1\" class=\"dataframe\">\n",
       "  <thead>\n",
       "    <tr style=\"text-align: right;\">\n",
       "      <th></th>\n",
       "      <th>ds</th>\n",
       "      <th>dau</th>\n",
       "    </tr>\n",
       "  </thead>\n",
       "  <tbody>\n",
       "    <tr>\n",
       "      <th>0</th>\n",
       "      <td>20160501</td>\n",
       "      <td>33189</td>\n",
       "    </tr>\n",
       "    <tr>\n",
       "      <th>1</th>\n",
       "      <td>20160502</td>\n",
       "      <td>32744</td>\n",
       "    </tr>\n",
       "    <tr>\n",
       "      <th>2</th>\n",
       "      <td>20160503</td>\n",
       "      <td>27276</td>\n",
       "    </tr>\n",
       "    <tr>\n",
       "      <th>3</th>\n",
       "      <td>20160504</td>\n",
       "      <td>28517</td>\n",
       "    </tr>\n",
       "    <tr>\n",
       "      <th>4</th>\n",
       "      <td>20160505</td>\n",
       "      <td>30333</td>\n",
       "    </tr>\n",
       "    <tr>\n",
       "      <th>5</th>\n",
       "      <td>20160506</td>\n",
       "      <td>31833</td>\n",
       "    </tr>\n",
       "    <tr>\n",
       "      <th>6</th>\n",
       "      <td>20160507</td>\n",
       "      <td>35862</td>\n",
       "    </tr>\n",
       "    <tr>\n",
       "      <th>7</th>\n",
       "      <td>20160508</td>\n",
       "      <td>35294</td>\n",
       "    </tr>\n",
       "    <tr>\n",
       "      <th>8</th>\n",
       "      <td>20160509</td>\n",
       "      <td>28919</td>\n",
       "    </tr>\n",
       "    <tr>\n",
       "      <th>9</th>\n",
       "      <td>20160510</td>\n",
       "      <td>27088</td>\n",
       "    </tr>\n",
       "  </tbody>\n",
       "</table>\n",
       "</div>"
      ],
      "text/plain": [
       "         ds    dau\n",
       "0  20160501  33189\n",
       "1  20160502  32744\n",
       "2  20160503  27276\n",
       "3  20160504  28517\n",
       "4  20160505  30333\n",
       "5  20160506  31833\n",
       "6  20160507  35862\n",
       "7  20160508  35294\n",
       "8  20160509  28919\n",
       "9  20160510  27088"
      ]
     },
     "execution_count": 4,
     "metadata": {},
     "output_type": "execute_result"
    }
   ],
   "source": [
    "from pandasql import sqldf\n",
    "sql = '''\n",
    "select ds, count(*) as dau \n",
    "from act_df\n",
    "group by ds\n",
    "'''\n",
    "sqldf(sql, globals())"
   ]
  }
 ],
 "metadata": {
  "kernelspec": {
   "display_name": "Python 2",
   "language": "python",
   "name": "python2"
  },
  "language_info": {
   "codemirror_mode": {
    "name": "ipython",
    "version": 2
   },
   "file_extension": ".py",
   "mimetype": "text/x-python",
   "name": "python",
   "nbconvert_exporter": "python",
   "pygments_lexer": "ipython2",
   "version": "2.7.11"
  }
 },
 "nbformat": 4,
 "nbformat_minor": 0
}
